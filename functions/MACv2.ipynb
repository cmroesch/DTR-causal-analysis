{
 "cells": [
  {
   "cell_type": "code",
   "execution_count": null,
   "metadata": {},
   "outputs": [],
   "source": [
    "import xarray as xr\n",
    "import numpy as np"
   ]
  },
  {
   "cell_type": "code",
   "execution_count": null,
   "metadata": {},
   "outputs": [],
   "source": [
    "aod1850 = xr.open_dataset('/home/s2135337/carla/ftp-projects.mpimet.mpg.de/aerocom/climatology/MACv2_2018/time/550nm/gt_tot1850.nc')\n",
    "aod1865 = xr.open_dataset('/home/s2135337/carla/ftp-projects.mpimet.mpg.de/aerocom/climatology/MACv2_2018/time/550nm/gt_tot1865.nc')\n",
    "aod1885 = xr.open_dataset('/home/s2135337/carla/ftp-projects.mpimet.mpg.de/aerocom/climatology/MACv2_2018/time/550nm/gt_tot1885.nc')\n",
    "aod1905 = xr.open_dataset('/home/s2135337/carla/ftp-projects.mpimet.mpg.de/aerocom/climatology/MACv2_2018/time/550nm/gt_tot1905.nc')\n",
    "aod1925 = xr.open_dataset('/home/s2135337/carla/ftp-projects.mpimet.mpg.de/aerocom/climatology/MACv2_2018/time/550nm/gt_tot1925.nc')\n",
    "aod1945 = xr.open_dataset('/home/s2135337/carla/ftp-projects.mpimet.mpg.de/aerocom/climatology/MACv2_2018/time/550nm/gt_tot1945.nc')\n",
    "aod1965 = xr.open_dataset('/home/s2135337/carla/ftp-projects.mpimet.mpg.de/aerocom/climatology/MACv2_2018/time/550nm/gt_tot1965.nc')\n",
    "aod1985 = xr.open_dataset('/home/s2135337/carla/ftp-projects.mpimet.mpg.de/aerocom/climatology/MACv2_2018/time/550nm/gt_tot1985.nc')\n",
    "aod2005 = xr.open_dataset('/home/s2135337/carla/ftp-projects.mpimet.mpg.de/aerocom/climatology/MACv2_2018/time/550nm/gt_tot2005.nc')\n",
    "aod2025 = xr.open_dataset('/home/s2135337/carla/ftp-projects.mpimet.mpg.de/aerocom/climatology/MACv2_2018/time/550nm/gt_tot2025.nc')"
   ]
  },
  {
   "cell_type": "code",
   "execution_count": null,
   "metadata": {},
   "outputs": [],
   "source": [
    "lsm = xr.open_dataset('/home/s2135337/carla/ftp-projects.mpimet.mpg.de/lsm/regridded_ocean_mask_1x1deg.nc')"
   ]
  },
  {
   "cell_type": "code",
   "execution_count": null,
   "metadata": {},
   "outputs": [],
   "source": [
    "ds_masked = lsm.where(lsm['lsm'] < 0)  "
   ]
  },
  {
   "cell_type": "code",
   "execution_count": null,
   "metadata": {},
   "outputs": [],
   "source": [
    "MACv2_aod = np.zeros(10)\n",
    "l = 0\n",
    "for i in [aod1850,aod1865,aod1885,aod1905,aod1925,aod1945,aod1965,aod1985,aod2005,aod2025]:\n",
    "    MACv2_aod[l] = i.where(newdf['lsm'] == 0).aod_ann.mean()\n",
    "    l = l+1"
   ]
  },
  {
   "cell_type": "code",
   "execution_count": null,
   "metadata": {},
   "outputs": [],
   "source": [
    "x = np.linspace(0, 10, num=10)\n",
    "xnew = np.linspace(0, 10, num=176)\n",
    "MACv2_aod_interp = np.interp(x = xnew, xp = x, fp = MACv2_aod)"
   ]
  }
 ],
 "metadata": {
  "language_info": {
   "name": "python"
  }
 },
 "nbformat": 4,
 "nbformat_minor": 2
}
