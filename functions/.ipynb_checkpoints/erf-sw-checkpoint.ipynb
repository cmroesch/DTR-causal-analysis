{
 "cells": [
  {
   "cell_type": "code",
   "execution_count": 2,
   "metadata": {},
   "outputs": [],
   "source": [
    "import warnings\n",
    "warnings.filterwarnings(\"ignore\")\n",
    "\n",
    "import pandas as pd\n",
    "import glob\n",
    "import numpy as np\n",
    "import matplotlib.pyplot as plt\n",
    "import matplotlib.gridspec as gridspec\n",
    "from matplotlib.gridspec import GridSpec\n",
    "\n",
    "import xarray as xr\n",
    "import netCDF4\n",
    "\n",
    "import scipy.stats as stats\n",
    "# import cartopy.crs as ccrs"
   ]
  },
  {
   "cell_type": "code",
   "execution_count": 6,
   "metadata": {},
   "outputs": [],
   "source": [
    "def read_in_AOD_SW(path):\n",
    "    station_locDF = pd.DataFrame()\n",
    "\n",
    "    # latlon = [[i.split('/')[-1][:6],i.split('/')[-1][7:-4]] for i in glob.glob(f'{path}/*.npy')]\n",
    "    latlon = [[i.split('/')[-1].split('-')[0],i.split('/')[-1].split('-')[1][:-4]] if len(i.split('/')[-1].split('-')) == 2 else [i.split('/')[-1].split('-')[0],'-'+i.split('/')[-1].split('-')[-1][:-4]] for i in glob.glob(f'{path}*.npy')]\n",
    "\n",
    "    station_locDF = pd.DataFrame()\n",
    "    station_locDF['id'] = np.arange(len(latlon))\n",
    "\n",
    "    station_locDF['lat'] = np.nan\n",
    "    station_locDF['lon'] = np.nan\n",
    "\n",
    "    station_locDF['AOD-SW'] = np.nan\n",
    "    station_locDF['plus'] = np.nan\n",
    "    station_locDF['minus'] = np.nan\n",
    "\n",
    "    for i in range(len(latlon)):\n",
    "        k = np.where(station_locDF.id == i)[0][0]\n",
    "        station_locDF.loc[k,'lat'] = float(latlon[i][0])\n",
    "        station_locDF.loc[k,'lon'] = float(latlon[i][1])\n",
    "\n",
    "        result = np.load(path+'/'+str(latlon[i][0])+'-'+str(latlon[i][1])+'.npy', allow_pickle = True)\n",
    "\n",
    "        if (0 not in result[-1][1:]) and all(~np.isnan(result[-1][1:])) and np.unique(np.sign(result[-1][1:])).shape[0] == 1:\n",
    "            station_locDF.loc[k, 'AOD-SW'] = result[-1][0]\n",
    "            station_locDF.loc[k, 'minus'] = result[-1][0] - result[-1][1]\n",
    "            station_locDF.loc[k, 'plus'] = result[-1][2] - result[-1][0]\n",
    "\n",
    "    return station_locDF"
   ]
  },
  {
   "cell_type": "code",
   "execution_count": 4,
   "metadata": {},
   "outputs": [],
   "source": [
    "eobsv27 = read_in_AOD_SW('/home/s2135337/carla/results/eobs/causal-effects-v27-01-21/')"
   ]
  },
  {
   "cell_type": "code",
   "execution_count": 5,
   "metadata": {},
   "outputs": [],
   "source": [
    "hadgem3 = read_in_AOD_SW('/home/s2135337/carla/results/cmip6/causal-effects-HadGEM3-01-14/')"
   ]
  },
  {
   "cell_type": "code",
   "execution_count": 6,
   "metadata": {},
   "outputs": [],
   "source": [
    "canesm5 = read_in_AOD_SW('/home/s2135337/carla/results/cmip6/causal-effects-CanESM5-01-14/')"
   ]
  },
  {
   "cell_type": "code",
   "execution_count": 3,
   "metadata": {},
   "outputs": [
    {
     "ename": "ValueError",
     "evalue": "did not find a match in any of xarray's currently installed IO backends ['netcdf4', 'scipy']. Consider explicitly selecting one of the installed engines via the ``engine`` parameter, or installing additional IO dependencies, see:\nhttp://xarray.pydata.org/en/stable/getting-started-guide/installing.html\nhttp://xarray.pydata.org/en/stable/user-guide/io.html",
     "output_type": "error",
     "traceback": [
      "\u001b[0;31m---------------------------------------------------------------------------\u001b[0m",
      "\u001b[0;31mValueError\u001b[0m                                Traceback (most recent call last)",
      "\u001b[0;32m/tmp/ipykernel_1169287/4128135801.py\u001b[0m in \u001b[0;36m<module>\u001b[0;34m\u001b[0m\n\u001b[0;32m----> 1\u001b[0;31m \u001b[0maodobs\u001b[0m \u001b[0;34m=\u001b[0m \u001b[0mxr\u001b[0m\u001b[0;34m.\u001b[0m\u001b[0mopen_dataset\u001b[0m\u001b[0;34m(\u001b[0m\u001b[0;34m'/home/s2135337/carla/MACv2-masked.nc'\u001b[0m\u001b[0;34m)\u001b[0m\u001b[0;34m.\u001b[0m\u001b[0msel\u001b[0m\u001b[0;34m(\u001b[0m\u001b[0mtime\u001b[0m \u001b[0;34m=\u001b[0m \u001b[0mslice\u001b[0m\u001b[0;34m(\u001b[0m\u001b[0;34m'1850-12-31'\u001b[0m\u001b[0;34m,\u001b[0m\u001b[0;34m'2020-12-31'\u001b[0m\u001b[0;34m)\u001b[0m\u001b[0;34m,\u001b[0m\u001b[0mlat\u001b[0m \u001b[0;34m=\u001b[0m \u001b[0mslice\u001b[0m\u001b[0;34m(\u001b[0m\u001b[0;36m35.12\u001b[0m\u001b[0;34m,\u001b[0m\u001b[0;36m69.89\u001b[0m\u001b[0;34m)\u001b[0m\u001b[0;34m,\u001b[0m \u001b[0mlon\u001b[0m \u001b[0;34m=\u001b[0m \u001b[0mslice\u001b[0m\u001b[0;34m(\u001b[0m\u001b[0;34m-\u001b[0m\u001b[0;36m10.40\u001b[0m\u001b[0;34m,\u001b[0m\u001b[0;36m34.12\u001b[0m\u001b[0;34m)\u001b[0m\u001b[0;34m)\u001b[0m\u001b[0;34m\u001b[0m\u001b[0;34m\u001b[0m\u001b[0m\n\u001b[0m",
      "\u001b[0;32m/scratch/s2135337/miniconda/base/envs/chapter1/lib/python3.7/site-packages/xarray/backends/api.py\u001b[0m in \u001b[0;36mopen_dataset\u001b[0;34m(filename_or_obj, engine, chunks, cache, decode_cf, mask_and_scale, decode_times, decode_timedelta, use_cftime, concat_characters, decode_coords, drop_variables, backend_kwargs, *args, **kwargs)\u001b[0m\n\u001b[1;32m    477\u001b[0m \u001b[0;34m\u001b[0m\u001b[0m\n\u001b[1;32m    478\u001b[0m     \u001b[0;32mif\u001b[0m \u001b[0mengine\u001b[0m \u001b[0;32mis\u001b[0m \u001b[0;32mNone\u001b[0m\u001b[0;34m:\u001b[0m\u001b[0;34m\u001b[0m\u001b[0;34m\u001b[0m\u001b[0m\n\u001b[0;32m--> 479\u001b[0;31m         \u001b[0mengine\u001b[0m \u001b[0;34m=\u001b[0m \u001b[0mplugins\u001b[0m\u001b[0;34m.\u001b[0m\u001b[0mguess_engine\u001b[0m\u001b[0;34m(\u001b[0m\u001b[0mfilename_or_obj\u001b[0m\u001b[0;34m)\u001b[0m\u001b[0;34m\u001b[0m\u001b[0;34m\u001b[0m\u001b[0m\n\u001b[0m\u001b[1;32m    480\u001b[0m \u001b[0;34m\u001b[0m\u001b[0m\n\u001b[1;32m    481\u001b[0m     \u001b[0mbackend\u001b[0m \u001b[0;34m=\u001b[0m \u001b[0mplugins\u001b[0m\u001b[0;34m.\u001b[0m\u001b[0mget_backend\u001b[0m\u001b[0;34m(\u001b[0m\u001b[0mengine\u001b[0m\u001b[0;34m)\u001b[0m\u001b[0;34m\u001b[0m\u001b[0;34m\u001b[0m\u001b[0m\n",
      "\u001b[0;32m/scratch/s2135337/miniconda/base/envs/chapter1/lib/python3.7/site-packages/xarray/backends/plugins.py\u001b[0m in \u001b[0;36mguess_engine\u001b[0;34m(store_spec)\u001b[0m\n\u001b[1;32m    150\u001b[0m         )\n\u001b[1;32m    151\u001b[0m \u001b[0;34m\u001b[0m\u001b[0m\n\u001b[0;32m--> 152\u001b[0;31m     \u001b[0;32mraise\u001b[0m \u001b[0mValueError\u001b[0m\u001b[0;34m(\u001b[0m\u001b[0merror_msg\u001b[0m\u001b[0;34m)\u001b[0m\u001b[0;34m\u001b[0m\u001b[0;34m\u001b[0m\u001b[0m\n\u001b[0m\u001b[1;32m    153\u001b[0m \u001b[0;34m\u001b[0m\u001b[0m\n\u001b[1;32m    154\u001b[0m \u001b[0;34m\u001b[0m\u001b[0m\n",
      "\u001b[0;31mValueError\u001b[0m: did not find a match in any of xarray's currently installed IO backends ['netcdf4', 'scipy']. Consider explicitly selecting one of the installed engines via the ``engine`` parameter, or installing additional IO dependencies, see:\nhttp://xarray.pydata.org/en/stable/getting-started-guide/installing.html\nhttp://xarray.pydata.org/en/stable/user-guide/io.html"
     ]
    }
   ],
   "source": [
    "aodobs = xr.open_dataset('/home/s2135337/carla/MACv2-masked.nc').sel(time = slice('1850-12-31','2020-12-31'),lat = slice(35.12,69.89), lon = slice(-10.40,34.12))"
   ]
  },
  {
   "cell_type": "code",
   "execution_count": 2,
   "metadata": {},
   "outputs": [
    {
     "ename": "ValueError",
     "evalue": "did not find a match in any of xarray's currently installed IO backends ['netcdf4', 'scipy']. Consider explicitly selecting one of the installed engines via the ``engine`` parameter, or installing additional IO dependencies, see:\nhttps://docs.xarray.dev/en/stable/getting-started-guide/installing.html\nhttps://docs.xarray.dev/en/stable/user-guide/io.html",
     "output_type": "error",
     "traceback": [
      "\u001b[0;31m---------------------------------------------------------------------------\u001b[0m",
      "\u001b[0;31mValueError\u001b[0m                                Traceback (most recent call last)",
      "Input \u001b[0;32mIn [2]\u001b[0m, in \u001b[0;36m<cell line: 2>\u001b[0;34m()\u001b[0m\n\u001b[1;32m      1\u001b[0m aodhad \u001b[38;5;241m=\u001b[39m xr\u001b[38;5;241m.\u001b[39mopen_dataset(\u001b[38;5;124m'\u001b[39m\u001b[38;5;124m/home/s2135337/carla/cmip6/od550aer_day_HadGEM3-GC31-LL_r1_1850101-20141230-Europe.nc\u001b[39m\u001b[38;5;124m'\u001b[39m)\u001b[38;5;241m.\u001b[39msel(lat \u001b[38;5;241m=\u001b[39m \u001b[38;5;28mslice\u001b[39m(\u001b[38;5;241m35.12\u001b[39m,\u001b[38;5;241m71.88\u001b[39m), lon \u001b[38;5;241m=\u001b[39m \u001b[38;5;28mslice\u001b[39m(\u001b[38;5;241m-\u001b[39m\u001b[38;5;241m10\u001b[39m,\u001b[38;5;241m35\u001b[39m))\u001b[38;5;241m.\u001b[39mgroupby(\u001b[38;5;124m'\u001b[39m\u001b[38;5;124mtime.year\u001b[39m\u001b[38;5;124m'\u001b[39m)\u001b[38;5;241m.\u001b[39mmean(\u001b[38;5;124m'\u001b[39m\u001b[38;5;124mtime\u001b[39m\u001b[38;5;124m'\u001b[39m)\n\u001b[0;32m----> 2\u001b[0m aodcan \u001b[38;5;241m=\u001b[39m \u001b[43mxr\u001b[49m\u001b[38;5;241;43m.\u001b[39;49m\u001b[43mopen_dataset\u001b[49m\u001b[43m(\u001b[49m\u001b[38;5;124;43m'\u001b[39;49m\u001b[38;5;124;43m/home/s2135337/carla/cmip6/od550aer_day_CanESM5_r1_18500101-20141231-Europe.nc\u001b[39;49m\u001b[38;5;124;43m'\u001b[39;49m\u001b[43m)\u001b[49m\u001b[38;5;241m.\u001b[39msel(lat \u001b[38;5;241m=\u001b[39m \u001b[38;5;28mslice\u001b[39m(\u001b[38;5;241m35.12\u001b[39m,\u001b[38;5;241m71.16\u001b[39m), lon \u001b[38;5;241m=\u001b[39m \u001b[38;5;28mslice\u001b[39m(\u001b[38;5;241m-\u001b[39m\u001b[38;5;241m10\u001b[39m, \u001b[38;5;241m35\u001b[39m))\u001b[38;5;241m.\u001b[39mgroupby(\u001b[38;5;124m'\u001b[39m\u001b[38;5;124mtime.year\u001b[39m\u001b[38;5;124m'\u001b[39m)\u001b[38;5;241m.\u001b[39mmean(\u001b[38;5;124m'\u001b[39m\u001b[38;5;124mtime\u001b[39m\u001b[38;5;124m'\u001b[39m)\n",
      "File \u001b[0;32m/scratch/s2135337/miniconda/base/lib/python3.9/site-packages/xarray/backends/api.py:479\u001b[0m, in \u001b[0;36mopen_dataset\u001b[0;34m(filename_or_obj, engine, chunks, cache, decode_cf, mask_and_scale, decode_times, decode_timedelta, use_cftime, concat_characters, decode_coords, drop_variables, backend_kwargs, *args, **kwargs)\u001b[0m\n\u001b[1;32m    476\u001b[0m     kwargs\u001b[38;5;241m.\u001b[39mupdate(backend_kwargs)\n\u001b[1;32m    478\u001b[0m \u001b[38;5;28;01mif\u001b[39;00m engine \u001b[38;5;129;01mis\u001b[39;00m \u001b[38;5;28;01mNone\u001b[39;00m:\n\u001b[0;32m--> 479\u001b[0m     engine \u001b[38;5;241m=\u001b[39m \u001b[43mplugins\u001b[49m\u001b[38;5;241;43m.\u001b[39;49m\u001b[43mguess_engine\u001b[49m\u001b[43m(\u001b[49m\u001b[43mfilename_or_obj\u001b[49m\u001b[43m)\u001b[49m\n\u001b[1;32m    481\u001b[0m backend \u001b[38;5;241m=\u001b[39m plugins\u001b[38;5;241m.\u001b[39mget_backend(engine)\n\u001b[1;32m    483\u001b[0m decoders \u001b[38;5;241m=\u001b[39m _resolve_decoders_kwargs(\n\u001b[1;32m    484\u001b[0m     decode_cf,\n\u001b[1;32m    485\u001b[0m     open_backend_dataset_parameters\u001b[38;5;241m=\u001b[39mbackend\u001b[38;5;241m.\u001b[39mopen_dataset_parameters,\n\u001b[0;32m   (...)\u001b[0m\n\u001b[1;32m    491\u001b[0m     decode_coords\u001b[38;5;241m=\u001b[39mdecode_coords,\n\u001b[1;32m    492\u001b[0m )\n",
      "File \u001b[0;32m/scratch/s2135337/miniconda/base/lib/python3.9/site-packages/xarray/backends/plugins.py:148\u001b[0m, in \u001b[0;36mguess_engine\u001b[0;34m(store_spec)\u001b[0m\n\u001b[1;32m    140\u001b[0m \u001b[38;5;28;01melse\u001b[39;00m:\n\u001b[1;32m    141\u001b[0m     error_msg \u001b[38;5;241m=\u001b[39m (\n\u001b[1;32m    142\u001b[0m         \u001b[38;5;124m\"\u001b[39m\u001b[38;5;124mfound the following matches with the input file in xarray\u001b[39m\u001b[38;5;124m'\u001b[39m\u001b[38;5;124ms IO \u001b[39m\u001b[38;5;124m\"\u001b[39m\n\u001b[1;32m    143\u001b[0m         \u001b[38;5;124mf\u001b[39m\u001b[38;5;124m\"\u001b[39m\u001b[38;5;124mbackends: \u001b[39m\u001b[38;5;132;01m{\u001b[39;00mcompatible_engines\u001b[38;5;132;01m}\u001b[39;00m\u001b[38;5;124m. But their dependencies may not be installed, see:\u001b[39m\u001b[38;5;130;01m\\n\u001b[39;00m\u001b[38;5;124m\"\u001b[39m\n\u001b[1;32m    144\u001b[0m         \u001b[38;5;124m\"\u001b[39m\u001b[38;5;124mhttps://docs.xarray.dev/en/stable/user-guide/io.html \u001b[39m\u001b[38;5;130;01m\\n\u001b[39;00m\u001b[38;5;124m\"\u001b[39m\n\u001b[1;32m    145\u001b[0m         \u001b[38;5;124m\"\u001b[39m\u001b[38;5;124mhttps://docs.xarray.dev/en/stable/getting-started-guide/installing.html\u001b[39m\u001b[38;5;124m\"\u001b[39m\n\u001b[1;32m    146\u001b[0m     )\n\u001b[0;32m--> 148\u001b[0m \u001b[38;5;28;01mraise\u001b[39;00m \u001b[38;5;167;01mValueError\u001b[39;00m(error_msg)\n",
      "\u001b[0;31mValueError\u001b[0m: did not find a match in any of xarray's currently installed IO backends ['netcdf4', 'scipy']. Consider explicitly selecting one of the installed engines via the ``engine`` parameter, or installing additional IO dependencies, see:\nhttps://docs.xarray.dev/en/stable/getting-started-guide/installing.html\nhttps://docs.xarray.dev/en/stable/user-guide/io.html"
     ]
    }
   ],
   "source": [
    "aodhad = xr.open_dataset('/home/s2135337/carla/cmip6/od550aer_day_HadGEM3-GC31-LL_r1_1850101-20141230-Europe.nc').sel(lat = slice(35.12,71.88), lon = slice(-10,35)).groupby('time.year').mean('time')\n",
    "aodcan = xr.open_dataset('/home/s2135337/carla/cmip6/od550aer_day_CanESM5_r1_18500101-20141231-Europe.nc').sel(lat = slice(35.12,71.16), lon = slice(-10, 35)).groupby('time.year').mean('time')"
   ]
  },
  {
   "cell_type": "code",
   "execution_count": 9,
   "metadata": {},
   "outputs": [],
   "source": [
    "obsCE = eobsv27['AOD-SW'].mean()\n",
    "obsCEplus = eobsv27['plus'].mean()\n",
    "obsCEminus = eobsv27['minus'].mean()\n",
    "\n",
    "hadCE = hadgem3['AOD-SW'].mean()\n",
    "hadCEplus = hadgem3['plus'].mean()\n",
    "hadCEminus = hadgem3['minus'].mean()\n",
    "\n",
    "canCE = canesm5['AOD-SW'].mean()\n",
    "canCEplus = canesm5['plus'].mean()\n",
    "canCEminus = canesm5['minus'].mean()"
   ]
  },
  {
   "cell_type": "code",
   "execution_count": 10,
   "metadata": {},
   "outputs": [],
   "source": [
    "aodO = np.nanmean(aodobs.aod_ann.values[-15:-5], axis = 0)[0] - aodobs.aod_ann.values[0]\n",
    "aodHad = aodhad.od550aer.values[-1] - aodhad.od550aer.values[0]\n",
    "aodCan = aodcan.od550aer.values[-1] - aodcan.od550aer.values[0]"
   ]
  },
  {
   "cell_type": "code",
   "execution_count": 11,
   "metadata": {},
   "outputs": [],
   "source": [
    "import numpy as np\n",
    "aodOmean = np.nanmean(aodO)\n",
    "aodOstd = np.nanquantile(aodO,[0.95,0.05])\n",
    "\n",
    "aodHmean = np.nanmean(aodHad)\n",
    "aodHstd = np.nanquantile(aodHad, [0.95,0.05])\n",
    "\n",
    "aodCmean = np.nanmean(aodCan)\n",
    "aodCstd = np.nanquantile(aodCan, [0.95,0.05])"
   ]
  },
  {
   "cell_type": "code",
   "execution_count": 49,
   "metadata": {},
   "outputs": [],
   "source": [
    "def ERF(ce, aod, ceplus, ceminus, aodplus, aodminus):\n",
    "    erf = 0.2 * ce * aod\n",
    "    errplus = abs(erf)*0.2*np.sqrt((ceplus/ce)**2+(aodplus/aod)**2)\n",
    "    errminus = abs(erf)*0.2*np.sqrt((ceminus/ce)**2+(aodminus/aod)**2)\n",
    "\n",
    "    return erf, errplus, errminus"
   ]
  },
  {
   "cell_type": "code",
   "execution_count": 50,
   "metadata": {},
   "outputs": [],
   "source": [
    "erfobs = ERF(obsCE, aodOmean, obsCEplus, obsCEminus, aodOstd[0]-aodOmean, aodOmean - aodOstd[1])\n",
    "erfhad = ERF(hadCE, aodHmean, hadCEplus, hadCEminus, aodHstd[0]-aodHmean, aodHmean - aodHstd[1])\n",
    "erfcan = ERF(canCE, aodCmean, canCEplus, canCEminus, aodCstd[0]-aodCmean, aodCmean - aodCstd[1])"
   ]
  },
  {
   "cell_type": "code",
   "execution_count": 41,
   "metadata": {},
   "outputs": [
    {
     "data": {
      "text/plain": [
       "0.8786481486200243"
      ]
     },
     "execution_count": 41,
     "metadata": {},
     "output_type": "execute_result"
    }
   ],
   "source": [
    "np.sqrt((obsCEplus/obsCE)**2+(aodOstd[0]-aodOmean/aodOmean)**2)"
   ]
  },
  {
   "cell_type": "code",
   "execution_count": 45,
   "metadata": {},
   "outputs": [
    {
     "data": {
      "text/plain": [
       "array([0.13351443, 0.01258804])"
      ]
     },
     "execution_count": 45,
     "metadata": {},
     "output_type": "execute_result"
    }
   ],
   "source": [
    "aodCstd"
   ]
  },
  {
   "cell_type": "code",
   "execution_count": 42,
   "metadata": {},
   "outputs": [
    {
     "data": {
      "text/plain": [
       "1.5573691489659716"
      ]
     },
     "execution_count": 42,
     "metadata": {},
     "output_type": "execute_result"
    }
   ],
   "source": [
    "(((a\n",
    "aodCstd[0]-aodCmean)/aodCmean)**2 + (canCEplus/canCE)**2)**0.5"
   ]
  },
  {
   "cell_type": "code",
   "execution_count": 38,
   "metadata": {},
   "outputs": [
    {
     "data": {
      "text/plain": [
       "0.008618159630821342"
      ]
     },
     "execution_count": 38,
     "metadata": {},
     "output_type": "execute_result"
    }
   ],
   "source": [
    "(obsCEplus/obsCE)**2"
   ]
  },
  {
   "cell_type": "code",
   "execution_count": 31,
   "metadata": {},
   "outputs": [
    {
     "data": {
      "text/plain": [
       "14.723639502398195"
      ]
     },
     "execution_count": 31,
     "metadata": {},
     "output_type": "execute_result"
    }
   ],
   "source": [
    "obsCEminus"
   ]
  },
  {
   "cell_type": "code",
   "execution_count": null,
   "metadata": {},
   "outputs": [],
   "source": [
    "aod"
   ]
  },
  {
   "cell_type": "code",
   "execution_count": 64,
   "metadata": {},
   "outputs": [
    {
     "data": {
      "text/plain": [
       "-1.4779226501236944"
      ]
     },
     "execution_count": 64,
     "metadata": {},
     "output_type": "execute_result"
    }
   ],
   "source": [
    "erfcan[0] - erfcan[2]"
   ]
  },
  {
   "cell_type": "code",
   "execution_count": 65,
   "metadata": {},
   "outputs": [
    {
     "data": {
      "text/plain": [
       "1.8532774295905674"
      ]
     },
     "execution_count": 65,
     "metadata": {},
     "output_type": "execute_result"
    }
   ],
   "source": [
    "erfcan[1]+erfcan[2]"
   ]
  },
  {
   "cell_type": "code",
   "execution_count": 52,
   "metadata": {},
   "outputs": [
    {
     "data": {
      "image/png": "[encoded data removed]",
      "text/plain": [
       "<Figure size 576x216 with 2 Axes>"
      ]
     },
     "metadata": {},
     "output_type": "display_data"
    }
   ],
   "source": [
    "fig = plt.figure(figsize=(8, 3), facecolor='white')\n",
    "   \n",
    "ax2 = fig.add_subplot(131)\n",
    "\n",
    "# ax.bar(1, 1.95, 0.8, -2.65, hatch = '\\\\', color = 'cornflowerblue', edgecolor ='black', label = 'Global')\n",
    "ax2.bar(0, 2-0.4, 0.8, -2, color = 'tab:orange', edgecolor = 'black', label = 'Bellouin et al., 2020')\n",
    "\n",
    "ax2.vlines(0.6, 2, -4, color = 'black')\n",
    "ax2.hlines(0,-0.5,4.1,color = 'black', linestyle = ':')\n",
    "\n",
    "\n",
    "\n",
    "ax2.bar(1.2, erfobs[2]+erfobs[1],0.8,  erfobs[0]-erfobs[2], color = 'black',\n",
    "        edgecolor = 'black', label = 'Obs')\n",
    "# ax2.hlines(np.nanmean(dsobs.AOD_SW.values[-15:-5].mean(axis = 0)),0.8,1.6,color = 'white', linestyle = '-', linewidth = 3)\n",
    "ax2.bar(2.2, erfhad[1]+erfhad[2],0.8,  erfhad[0]-erfhad[2], color = 'tab:purple',\n",
    "        edgecolor = 'black', label = 'HadGEM3-GC31-LL')\n",
    "# ax2.hlines(np.nanmean(dshad.AOD_SW.values[-1]),1.8,2.6,color = 'white', linestyle = '-', linewidth = 3)\n",
    "ax2.bar(3.2, erfcan[1]+erfcan[2],0.8,  erfcan[0]-erfcan[2], color = 'tab:green',\n",
    "        edgecolor = 'black', label = 'CanESM5')\n",
    "# ax2.hlines(np.nanmean(dscan.AOD_SW.values[-1]),2.8,3.6,color = 'white', linestyle = '-', linewidth = 3)\n",
    "\n",
    "ax2.set_ylim(-4,1)\n",
    "ax2.set_xlim(-0.5,4.1)\n",
    "\n",
    "ax2.set_yticks([-4,-3,-2,-1,0])\n",
    "ax2.set_yticklabels([-4,-3,-2,-1,0], fontsize = 16)\n",
    "ax2.set_ylabel(r'ERF$_{S,SW}$ [Wm$^{-2}$]', fontsize = 16)\n",
    "\n",
    "ax2.scatter(2.2, -1.3, marker = 'x', color = 'tab:orange', linewidth = 3, label = 'Smith et al., 2020')\n",
    "ax2.scatter(3.2, -1.04, marker = 'x', color = 'tab:orange', linewidth = 3)\n",
    "            \n",
    "ax2.legend(bbox_to_anchor = [4.8,1.05], fontsize = 14, title_fontsize = 16, title = 'Data')\n",
    "\n",
    "ax2.set_xticks([])\n",
    "ax2.set_xticklabels([])\n",
    "\n",
    "ax = fig.add_subplot(132)\n",
    "ax.errorbar(0, obsCE, np.array([obsCEminus,obsCEplus]).reshape(2,1),label = ['Obs'], color = 'black', marker = 's', markersize = 13, capsize = 8)\n",
    "ax.errorbar(1, hadCE, np.array([hadCEminus,hadCEplus]).reshape(2,1),label = ['Obs'], color = 'tab:purple', marker = 's', markersize = 13, capsize = 8)\n",
    "ax.errorbar(2, canCE, np.array([canCEminus,canCEplus]).reshape((2,1)),label = ['Obs'], color = 'tab:green', marker = 's', markersize = 13, capsize = 8)\n",
    "ax.set_xlim(-0.5,2.5)\n",
    "ax.set_ylim(-160,-50)\n",
    "ax.set_yticks([-150, -125, -100, -75, -50])\n",
    "ax.set_yticklabels([-150, -125, -100, -75, -50], fontsize = 14)\n",
    "ax.set_ylabel(r'TCE [Wm$^{-2}$ AOD$^{-1}$]', fontsize = 16)\n",
    "\n",
    "# ax = fig.add_subplot(133)\n",
    "# ax.errorbar(0, aodOmean, np.array([aodOmean - aodOstd[1],aodOstd[0]-aodOmean]).reshape(2,1),label = ['Obs'], color = 'black', marker = 's', markersize = 13, capsize = 8)\n",
    "# ax.errorbar(1, aodHmean, np.array([aodHmean - aodHstd[1],aodHstd[0]-aodHmean]).reshape(2,1),label = ['Obs'], color = 'tab:purple', marker = 's', markersize = 13, capsize = 8)\n",
    "# ax.errorbar(2, aodCmean, np.array([aodCmean - aodCstd[1],aodCstd[0]-aodCmean]).reshape((2,1)),label = ['Obs'], color = 'tab:green', marker = 's', markersize = 13, capsize = 8)\n",
    "# ax.set_xlim(-0.5,2.5)\n",
    "# ax.set_ylim(-160,-50)\n",
    "# ax.set_yticks([-150, -125, -100, -75, -50])\n",
    "# ax.set_yticklabels([-150, -125, -100, -75, -50], fontsize = 14)\n",
    "# ax.set_ylabel(r'TCE [Wm$^{-2}$ AOD$^{-1}$]', fontsize = 16)\n",
    "\n",
    "ax.set_xticks([])\n",
    "\n",
    "plt.subplots_adjust(wspace = 0.7)\n",
    "\n",
    "plt.savefig('/home/s2135337/scratch/final/erf-today.png', bbox_inches = 'tight')"
   ]
  },
  {
   "cell_type": "code",
   "execution_count": 47,
   "metadata": {},
   "outputs": [
    {
     "data": {
      "text/plain": [
       "-1.9884460845179834"
      ]
     },
     "execution_count": 47,
     "metadata": {},
     "output_type": "execute_result"
    }
   ],
   "source": [
    "(0.2*(obsCEplus + obsCE)*aodOstd[0] - 0.2*(obsCE - obsCEminus)*aodOstd[1])"
   ]
  },
  {
   "cell_type": "code",
   "execution_count": 49,
   "metadata": {},
   "outputs": [
    {
     "data": {
      "text/plain": [
       "-0.8482809865884607"
      ]
     },
     "execution_count": 49,
     "metadata": {},
     "output_type": "execute_result"
    }
   ],
   "source": [
    "0.2*(obsCE - obsCEminus)*aodOstd[1]"
   ]
  },
  {
   "cell_type": "code",
   "execution_count": 51,
   "metadata": {},
   "outputs": [
    {
     "data": {
      "text/plain": [
       "-138.5466095183931"
      ]
     },
     "execution_count": 51,
     "metadata": {},
     "output_type": "execute_result"
    }
   ],
   "source": [
    "(obsCE - obsCEminus)"
   ]
  },
  {
   "cell_type": "code",
   "execution_count": 46,
   "metadata": {},
   "outputs": [
    {
     "name": "stdout",
     "output_type": "stream",
     "text": [
      "-2.8367270711064436\n"
     ]
    }
   ],
   "source": [
    "print((aodOstd[0])*(obsCE+obsCEplus)*0.2)"
   ]
  },
  {
   "cell_type": "code",
   "execution_count": 42,
   "metadata": {},
   "outputs": [
    {
     "name": "stdout",
     "output_type": "stream",
     "text": [
      "0.05270634450912291\n"
     ]
    }
   ],
   "source": [
    "print((aodOstd[0]-aodOmean))"
   ]
  },
  {
   "cell_type": "code",
   "execution_count": 44,
   "metadata": {},
   "outputs": [
    {
     "name": "stdout",
     "output_type": "stream",
     "text": [
      "0.10417704571701508\n"
     ]
    }
   ],
   "source": [
    "print(aodOstd[1]+aodOmean)"
   ]
  },
  {
   "cell_type": "code",
   "execution_count": null,
   "metadata": {},
   "outputs": [],
   "source": [
    "cruts = xr.open_dataset('/exports/csce/datastore/geos/groups/cmip6/carla/observations/cru_ts4.05/dtr/cru_ts4.05.1901.2020.grid25x25.dtr.nc').sel(time=slice('1900-01-01','2020-12-31'), lat = slice(-90,90))\n",
    "cruts = cruts.sel(time=is_jja(cruts['time.month']))\n",
    "h_sea = season_mean(cruts.stn)\n",
    "mask = ~np.isnan(h_sea.where(h_sea>0)).all(axis=0)\n",
    "\n",
    "weights = area_weighting(cruts)\n",
    "\n",
    "dt = cruts.where(mask).groupby('time.year').mean()\n",
    "eu = xr.concat([dt.sel(lon = slice(360-12,360), lat = slice(35,70)),dt.sel(lon = slice(-10,35), lat = slice(35,70))], dim = 'lon')\n",
    "\n",
    "d = eu.weighted(weights).mean(('lon','lat')).dtr.values\n",
    "\n",
    "dglobe = cruts.where(mask).weighted(weights).mean(('lon','lat')).dtr.groupby('time.year').mean().values"
   ]
  },
  {
   "cell_type": "code",
   "execution_count": null,
   "metadata": {},
   "outputs": [],
   "source": [
    "fig = plt.figure(figsize=(12, 3), facecolor = 'white')\n",
    "spec = gridspec.GridSpec(ncols=2, nrows=1,\n",
    "                             width_ratios=[1 for i in range(2)], wspace=0.3,\n",
    "                             hspace=0.4, height_ratios=[1 for i in range(1)])\n",
    "\n",
    "# mmm = np.zeros((6,121))\n",
    "# ax = fig.add_subplot(spec[0,0])\n",
    "# f = np.load('/home/s2135337/Documents/chapter2_DTR/dtr-time-series/CanESM5-dtr-hist-europe-long.npy', allow_pickle = True)\n",
    "# mmm = (f.transpose() - f.transpose()[70:,:].mean(axis = 0))[100:,:]\n",
    "# ax.plot(np.apply_along_axis(runningMean, 0, mmm, 10), color = 'grey', linestyle = '-', linewidth = 0.5)\n",
    "# ax.plot(runningMean((f.transpose().mean(axis = 1)-f.transpose().mean(axis = 1)[70:].mean())[100:],10), color = 'tab:green', linestyle = '-', linewidth = 3, label = 'CanESM5')\n",
    "\n",
    "# f = np.load('/home/s2135337/Documents/chapter2_DTR/dtr-time-series/HadGEM3-GC31-LL-dtr-hist-europe-long.npy', allow_pickle = True)\n",
    "# mmm = (f.transpose() - f.transpose()[70:,:].mean(axis = 0))[100:,:]\n",
    "# ax.plot(np.apply_along_axis(runningMean, 0, mmm, 10), color = 'grey', linestyle = '-', linewidth = 0.5)\n",
    "# ax.plot(runningMean((f.transpose().mean(axis = 1)-f.transpose().mean(axis = 1)[70:].mean())[100:],10), color = 'tab:purple', linestyle = '-', linewidth = 3, label = 'HadGEM3-GC31-LL')\n",
    "\n",
    "# ax.plot(runningMean(d - np.mean(d[70:]), 10)[49:], color = 'black', label = 'CRUTS (obs.)', linewidth = 2)\n",
    "# ax.plot(runningMean(dglobe - np.mean(dglobe[70:]), 10)[49:], color = 'black', label = 'CRUTS - global (obs.)', linewidth = 2, linestyle = ':')\n",
    "# ax.plot(np.apply_along_axis(runningMean, 0, mmm[0], 10), color = 'grey', linestyle = '-', linewidth = 0.5, label = 'Ensemble')\n",
    "# # ax.set_title('Obs/ALL')\n",
    "# ax.set_ylim([-0.3,0.3])\n",
    "# ax.set_xlim(0,50)\n",
    "# ax.legend(bbox_to_anchor=(3.1, 0.9), title = 'Data')\n",
    "# ax.set_xticks([0,11,22,33,44,50])\n",
    "# ax.set_xticklabels([1950,1965,1980,1995,2010,2020], fontsize = 14)\n",
    "# ax.set_yticks([-0.3,-0.15,0,0.15,0.3])\n",
    "# ax.set_yticklabels([-0.3,-0.15,0,0.15,0.3], fontsize = 14)\n",
    "# ax.set_ylabel('DTR anomaly [K]', fontsize = 16)\n",
    "\n",
    "mmm = np.zeros((6,121))\n",
    "ax = fig.add_subplot(spec[0,0])\n",
    "f = np.load('/home/s2135337/Documents/chapter2_DTR/dtr-time-series/CanESM5-dtr-hist-europe-long.npy', allow_pickle = True)\n",
    "mmm = (f.transpose() - f.transpose()[-80:,:].mean(axis = 0))[91:]\n",
    "ax.plot(np.apply_along_axis(runningMean, 0, mmm, 5), color = 'grey', linestyle = '-', linewidth = 0.5)\n",
    "ax.plot(runningMean((f.transpose().mean(axis = 1)-f.transpose().mean(axis = 1)[-80:].mean())[91:],5), color = 'tab:green', linestyle = '-', linewidth = 3, label = 'CanESM5')\n",
    "\n",
    "f = np.load('/home/s2135337/Documents/chapter2_DTR/dtr-time-series/HadGEM3-GC31-LL-dtr-hist-europe-long.npy', allow_pickle = True)\n",
    "mmm = (f.transpose() - f.transpose()[-80:,:].mean(axis = 0))[91:]\n",
    "ax.plot(np.apply_along_axis(runningMean, 0, mmm, 5), color = 'grey', linestyle = '-', linewidth = 0.5)\n",
    "ax.plot(runningMean((f.transpose().mean(axis = 1)-f.transpose().mean(axis = 1)[-80:].mean())[91:],5), color = 'tab:purple', linestyle = '-', linewidth = 3, label = 'HadGEM3-GC31-LL')\n",
    "\n",
    "ax.plot(runningMean((d - np.mean(d[-80:]))[40:], 5), color = 'black', label = 'Observations', linewidth = 2)\n",
    "ax.plot(runningMean((dglobe - np.mean(dglobe[-80:]))[40:], 5), color = 'black', label = 'Global (obs.)', linewidth = 2, linestyle = ':')\n",
    "ax.plot(np.apply_along_axis(runningMean, 0, mmm[0], 5), color = 'grey', linestyle = '-', linewidth = 0.5, label = 'Ensemble')\n",
    "# ax.set_title('Obs/ALL')\n",
    "ax.set_ylim([-0.3,0.3])\n",
    "ax.set_xlim(0,60)\n",
    "ax.legend(bbox_to_anchor=(3.1, 0.9), title = 'Data', fontsize = 14, title_fontsize = 16)\n",
    "ax.set_xticks([0,15,30,45,60])\n",
    "ax.set_xticklabels([1940,1960,1980,2000,2020], fontsize = 14)\n",
    "ax.set_yticks([-0.3,-0.15,0,0.15,0.3])\n",
    "ax.set_yticklabels([-0.3,-0.15,0,0.15,0.3], fontsize = 14)\n",
    "ax.set_ylabel('DTR anomaly [K]', fontsize = 16)\n",
    "\n",
    "\n",
    "\n",
    "obs = aodobsanom.mean(('lat','lon')).values[:,0]\n",
    "obsstd = aodobsanom.std(('lat','lon')).values[:,0]\n",
    "\n",
    "had = aodhadanom.mean(('lat','lon')).values#[110:]\n",
    "hadstd = aodhadanom.std(('lat','lon')).values#[110:]\n",
    "\n",
    "can = aodcananom.mean(('lat','lon')).values#[110:]\n",
    "canstd = aodcananom.std(('lat','lon')).values#[110:]\n",
    "\n",
    "ax = fig.add_subplot(spec[0,1])\n",
    "\n",
    "ax.plot(aodobsanom.mean(('lat','lon')).values, color = 'black', linewidth = 2)\n",
    "ax.plot(aodcananom.mean(('lat','lon')).values, color = 'tab:green', linewidth = 2)\n",
    "ax.plot(aodhadanom.mean(('lat','lon')).values, color = 'tab:purple', linewidth = 2)\n",
    "ax.fill_between(np.linspace(0,170,171),obs+obsstd, obs-obsstd, color = 'grey', alpha = 0.3)\n",
    "ax.fill_between(np.linspace(0,164,165), had + hadstd, had-hadstd, color = 'tab:purple', alpha = 0.3)\n",
    "ax.fill_between(np.linspace(0,164,165), can + canstd, can-canstd, color = 'tab:green', alpha = 0.3)\n",
    "# ax.set_title67\n",
    "ax.set_ylim([-0.3,0.3])\n",
    "ax.set_xlim(90,170)\n",
    "ax.set_xticks([90,110,130,150,170])\n",
    "ax.set_xticklabels([1940,1960,1980,2000,2020], fontsize = 14)\n",
    "ax.set_yticks([-0.3,-0.15,0,0.15,0.3])\n",
    "ax.set_yticklabels([-0.3,-0.15,0,0.15,0.3], fontsize = 14)\n",
    "ax.set_ylabel('AOD anomaly', fontsize = 16)\n",
    "\n",
    "# x = [14,34,54]\n",
    "# l = 0\n",
    "# for i in [aod1965,aod1985,aod2005]:\n",
    "#     m = i.where(newdf['lsm'] == 0).aod_ann.mean() - (aod1945.where(newdf['lsm'] == 0).aod_ann.mean() + \n",
    "#                                                       aod1965.where(newdf['lsm'] == 0).aod_ann.mean() + aod1985.where(newdf['lsm'] == 0).aod_ann.mean() + \n",
    "#                                                       aod2005.where(newdf['lsm'] == 0).aod_ann.mean() + aod2025.where(newdf['lsm'] == 0).aod_ann.mean())/5\n",
    "#     s = (i.where(newdf['lsm'] == 0).aod_ann.std()) + ((aod1945.where(newdf['lsm'] == 0).aod_ann.std() + \n",
    "#                                                        aod1965.where(newdf['lsm'] == 0).aod_ann.std() + aod1985.where(newdf['lsm'] == 0).aod_ann.std() + \n",
    "#                                                        aod2005.where(newdf['lsm'] == 0).aod_ann.std() + aod2025.where(newdf['lsm'] == 0).aod_ann.mean())/5)/2\n",
    "    \n",
    "#     ax.scatter(x[l], m, color = 'blue')\n",
    "#     ax.vlines(x[l], m-s,m+s, color = 'blue')\n",
    "#     l = l+1\n",
    "plt.savefig('/home/s2135337/scratch/final/dtr-aod-timeseries.png', bbox_inches = 'tight')"
   ]
  }
 ],
 "metadata": {
  "kernelspec": {
   "display_name": "chapter1",
   "language": "python",
   "name": "python3"
  },
  "language_info": {
   "codemirror_mode": {
    "name": "ipython",
    "version": 3
   },
   "file_extension": ".py",
   "mimetype": "text/x-python",
   "name": "python",
   "nbconvert_exporter": "python",
   "pygments_lexer": "ipython3",
   "version": "3.7.11"
  }
 },
 "nbformat": 4,
 "nbformat_minor": 2
}
