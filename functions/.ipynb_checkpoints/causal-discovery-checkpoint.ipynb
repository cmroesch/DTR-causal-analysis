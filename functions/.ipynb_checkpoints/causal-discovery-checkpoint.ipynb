{
 "cells": [
  {
   "cell_type": "code",
   "execution_count": 14,
   "id": "152e7e1a-6830-4786-853b-294fdc1a2816",
   "metadata": {},
   "outputs": [],
   "source": [
    "import pandas as pd\n",
    "from shapely.geometry import Point, Polygon\n",
    "import matplotlib.pyplot as plt\n",
    "\n",
    "import numpy as np\n",
    "import pandas as pd\n",
    "import xarray as xr\n",
    "#import matplotlib\n",
    "#matplotlib.use('Agg')\n",
    "import matplotlib.pyplot as plt\n",
    "# import cartopy.crs as ccrs\n",
    "from tigramite.data_processing import DataFrame\n",
    "import netCDF4\n",
    "import os\n",
    "import re\n",
    "#import seaborn as sns\n",
    "#from datetime import datetime\n",
    "import datetime\n",
    "#from sklearn.linear_model import LinearRegression\n",
    "\n",
    "from random import seed\n",
    "from random import randint\n",
    "\n",
    "import warnings\n",
    "warnings.filterwarnings(\"ignore\")\n",
    "\n",
    "import glob\n",
    "import matplotlib.pyplot as plt\n",
    "import matplotlib.gridspec as gridspec\n",
    "from matplotlib.gridspec import GridSpec\n",
    "\n",
    "import scipy.stats as stats\n",
    "from scipy import signal\n",
    "\n",
    "# %matplotlib inline     \n",
    "## use `%matplotlib notebook` for interactive figures\n",
    "# plt.style.use('ggplot')\n",
    "import sklearn\n",
    "\n",
    "import tigramite\n",
    "from tigramite import data_processing as pp\n",
    "from tigramite.toymodels import structural_causal_processes as toys\n",
    "\n",
    "from tigramite import plotting as tp\n",
    "from tigramite.pcmci import PCMCI\n",
    "from tigramite.independence_tests import ParCorr, GPDC, CMIknn, CMIsymb\n",
    "\n",
    "import xarray as xr\n",
    "import netCDF4\n",
    "\n",
    "import scipy.stats as stats\n",
    "\n",
    "import tigramite\n",
    "from tigramite import data_processing as pp\n",
    "from tigramite.toymodels import structural_causal_processes as toys\n",
    "from tigramite import plotting as tp\n",
    "from tigramite.pcmci import PCMCI\n",
    "from tigramite.independence_tests import ParCorr, GPDC, CMIknn, CMIsymb\n",
    "from tigramite.models import Models\n",
    "from tigramite.causal_effects import CausalEffects\n",
    "\n",
    "import sklearn\n",
    "from sklearn.linear_model import LinearRegression\n",
    "from sklearn.neighbors import KNeighborsRegressor\n",
    "from sklearn.neural_network import MLPRegressor\n",
    "from sklearn.gaussian_process import GaussianProcessRegressor\n",
    "\n",
    "def run_and_plot(dataframe, cond_ind_test):\n",
    "    \n",
    "    var_names = ['tmin','tmax','sw','cloudiness','aod']\n",
    "    # Create and run Multidata-PCMCIplus\n",
    "    pcmci = PCMCI(dataframe = dataframe, cond_ind_test = cond_ind_test)\n",
    "\n",
    "    link_assumptions = {j:{(i, -tau):'o-o' for i in range(5) for tau in range(1) if (i, -tau) != (j, 0)} for j in range(5)}\n",
    "    link_assumptions[0] = {(i, -tau):'o-o' if i == 1 else '-->' for i in [0,1,3,4] for tau in range(1) if (i, -tau) != (0, 0)}\n",
    "    link_assumptions[1] = {(i, -tau):'o-o' if i == 0 else '-->' for i in [0,1,2,3] for tau in range(1) if (i, -tau) != (1, 0)}\n",
    "    link_assumptions[2] = {(i, -tau):'<--' if i in [1] else '-->' for i in [1,2,3,4] for tau in range(1) if (i, -tau) != (2, 0)}\n",
    "    link_assumptions[3] = {(i, -tau):'<--' if i in [0,1,2] else '-->' for i in range(5) for tau in range(1) if (i, -tau) != (3, 0)}\n",
    "    link_assumptions[4] = {(i, -tau):'<--' if i in [0,1,2,3] else '-->' for i in [0,2,3,4] for tau in range(1) if (i, -tau) != (4, 0)}\n",
    "\n",
    "\n",
    "    link_assumptions[1][(0, -1)] = 'o-o' \n",
    "    link_assumptions[0][(0, -1)] = 'o-o'\n",
    "    link_assumptions[1][(1, -1)] = 'o-o'\n",
    "    # link_assumptions[0][(1, -1)] = 'o-o'\n",
    "    link_assumptions[2][(2, -1)] = 'o-o'\n",
    "    link_assumptions[3][(3, -1)] = 'o-o'\n",
    "    link_assumptions[4][(4, -1)] = 'o-o'\n",
    "    link_assumptions[0][(3, -1)] = '-->'\n",
    "    link_assumptions[1][(3, -1)] = '-->'\n",
    "    \n",
    "\n",
    "    results = pcmci.run_pcmciplus(tau_min=0, tau_max=1, pc_alpha=0.01, link_assumptions = link_assumptions)\n",
    "    \n",
    "    tp.plot_graph(graph=results['graph'], val_matrix=results['val_matrix'], var_names=var_names)\n",
    "    \n",
    "    \n",
    "    return results"
   ]
  },
  {
   "cell_type": "code",
   "execution_count": 13,
   "id": "a941d5a4-23f3-4700-b60f-ba1da6ea7f34",
   "metadata": {},
   "outputs": [
    {
     "data": {
      "text/plain": [
       "{0: {(1, 0): 'o-o', (3, 0): '-->', (4, 0): '-->', (0, -1): 'o-o'},\n",
       " 1: {(0, 0): 'o-o',\n",
       "  (2, 0): '-->',\n",
       "  (3, 0): '-->',\n",
       "  (0, -1): 'o-o',\n",
       "  (1, -1): 'o-o'},\n",
       " 2: {(1, 0): '<--', (3, 0): '-->', (4, 0): '-->', (2, -1): 'o-o'},\n",
       " 3: {(0, 0): '<--',\n",
       "  (1, 0): '<--',\n",
       "  (2, 0): '<--',\n",
       "  (4, 0): '-->',\n",
       "  (3, -1): 'o-o'},\n",
       " 4: {(0, 0): '<--', (2, 0): '<--', (3, 0): '<--', (4, -1): 'o-o'}}"
      ]
     },
     "execution_count": 13,
     "metadata": {},
     "output_type": "execute_result"
    }
   ],
   "source": [
    "link_assumptions = {j:{(i, -tau):'o-o' for i in range(5) for tau in range(1) if (i, -tau) != (j, 0)} for j in range(5)}\n",
    "link_assumptions[0] = {(i, -tau):'o-o' if i == 1 else '-->' for i in [0,1,3,4] for tau in range(1) if (i, -tau) != (0, 0)}\n",
    "link_assumptions[1] = {(i, -tau):'o-o' if i == 0 else '-->' for i in [0,1,2,3] for tau in range(1) if (i, -tau) != (1, 0)}\n",
    "link_assumptions[2] = {(i, -tau):'<--' if i in [1] else '-->' for i in [1,2,3,4] for tau in range(1) if (i, -tau) != (2, 0)}\n",
    "link_assumptions[3] = {(i, -tau):'<--' if i in [0,1,2] else '-->' for i in range(5) for tau in range(1) if (i, -tau) != (3, 0)}\n",
    "link_assumptions[4] = {(i, -tau):'<--' if i in [0,1,2,3] else '-->' for i in [0,2,3,4] for tau in range(1) if (i, -tau) != (4, 0)}\n",
    "\n",
    "\n",
    "link_assumptions[1][(0, -1)] = 'o-o' \n",
    "link_assumptions[0][(0, -1)] = 'o-o'\n",
    "link_assumptions[1][(1, -1)] = 'o-o'\n",
    "# link_assumptions[0][(1, -1)] = 'o-o'\n",
    "link_assumptions[2][(2, -1)] = 'o-o'\n",
    "# link_assumptions[3][(3, -1)] = 'o-o'\n",
    "# link_assumptions[4][(4, -1)] = 'o-o'\n",
    "\n",
    "link_assumptions"
   ]
  },
  {
   "cell_type": "code",
   "execution_count": 16,
   "id": "35be0aa8-7465-4a42-8b54-27ff95b1efec",
   "metadata": {},
   "outputs": [
    {
     "data": {
      "image/png": "[encoded data removed]",
      "text/plain": [
       "<Figure size 432x288 with 3 Axes>"
      ]
     },
     "metadata": {
      "needs_background": "light"
     },
     "output_type": "display_data"
    }
   ],
   "source": [
    "dataStacked = np.load('/home/s2135337/carla/results/stations/stacked-01-14.npy', allow_pickle = True)\n",
    "\n",
    "dims = dataStacked.shape\n",
    "\n",
    "dS = np.array([dataStacked[i,:,:] for i in range(5)])\n",
    "d = {i: dS[:,i,:].transpose() for i in range(dims[1])}\n",
    "dataframe = DataFrame(d, analysis_mode = 'multiple', var_names = ['tmin','tmax','sw','cloudiness','aod'])\n",
    "results = run_and_plot(dataframe, ParCorr())\n",
    "# plt.savefig('/exports/geos.ed.ac.uk/climate_change/users/carla/results/stations/allstations-noSTD.png')\n",
    "# np.save('/exports/geos.ed.ac.uk/climate_change/users/carla/results/stations/allstations-noSTD.npy',np.array(list(results.items()))[:,1])"
   ]
  },
  {
   "cell_type": "markdown",
   "id": "260a3593-1206-4da2-9874-8073d416a35b",
   "metadata": {},
   "source": [
    "#### dims"
   ]
  },
  {
   "cell_type": "code",
   "execution_count": null,
   "id": "c803d12b-78ff-4fc7-a176-92da060d32b1",
   "metadata": {},
   "outputs": [],
   "source": []
  }
 ],
 "metadata": {
  "kernelspec": {
   "display_name": "causalinf",
   "language": "python",
   "name": "causalinf"
  },
  "language_info": {
   "codemirror_mode": {
    "name": "ipython",
    "version": 3
   },
   "file_extension": ".py",
   "mimetype": "text/x-python",
   "name": "python",
   "nbconvert_exporter": "python",
   "pygments_lexer": "ipython3",
   "version": "3.9.7"
  }
 },
 "nbformat": 4,
 "nbformat_minor": 5
}
