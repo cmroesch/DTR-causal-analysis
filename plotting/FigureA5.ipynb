{
 "cells": [
  {
   "cell_type": "code",
   "execution_count": 19,
   "id": "1f15dfc9",
   "metadata": {},
   "outputs": [],
   "source": [
    "import numpy as np\n",
    "import pandas as pd\n",
    "import xarray as xr\n",
    "\n",
    "\n",
    "import tigramite\n",
    "from tigramite import data_processing as pp\n",
    "from tigramite import plotting as tp\n",
    "from tigramite.pcmci import PCMCI\n",
    "from tigramite.independence_tests.parcorr import ParCorr\n"
   ]
  },
  {
   "cell_type": "code",
   "execution_count": 20,
   "id": "152e7e1a-6830-4786-853b-294fdc1a2816",
   "metadata": {},
   "outputs": [],
   "source": [
    "def run_pcmci(dataframe, cond_ind_test, link_assumptions):\n",
    "    \n",
    "    pcmci = PCMCI(dataframe = dataframe, cond_ind_test = cond_ind_test)\n",
    "    results = pcmci.run_pcmciplus(tau_min=0, tau_max=1, pc_alpha=0.01, link_assumptions = link_assumptions)\n",
    "    \n",
    "    return results"
   ]
  },
  {
   "cell_type": "markdown",
   "id": "658026b0",
   "metadata": {},
   "source": [
    "## Causal discovery"
   ]
  },
  {
   "cell_type": "code",
   "execution_count": null,
   "id": "082901c6",
   "metadata": {},
   "outputs": [],
   "source": [
    "## Supplement figure A5a - no link assumptions\n",
    "dataStacked = np.load('/data/stacked-01-21-std.npy', allow_pickle = True)\n",
    "\n",
    "dims = dataStacked.shape\n",
    "\n",
    "dS = np.array([dataStacked[i,:,:] for i in range(5)])\n",
    "d = {i: dS[:,i,:].transpose() for i in range(dims[1])}\n",
    "dataframe = pp.DataFrame(d, analysis_mode = 'multiple', var_names = ['tmin','tmax','sw','cloudiness','aod'])\n",
    "results5 = run_pcmci(dataframe, ParCorr(), None)\n",
    "\n",
    "tp.plot_graph(graph=results5['graph'], val_matrix=results5['val_matrix'], save_name = 'figureA5-graphA.png',\n",
    "               var_names=[r'T$_{\\text{min}}$',r'T$_{\\text{max}}$','SW','Clouds','AOD'], node_pos = {'x':[0,1,3,4,2],'y':[2,0,0,2,4]}, show_colorbar = False,\n",
    "               node_aspect = 0.8, node_size = 0.8, label_fontsize = 12, link_label_fontsize = 12, tick_label_size = 10)"
   ]
  },
  {
   "cell_type": "code",
   "execution_count": null,
   "id": "cdf9eadc",
   "metadata": {},
   "outputs": [],
   "source": [
    "## Supplement figure A5b - link assumptions nut no time order\n",
    "\n",
    "link_assumptions = {j:{(i, -tau):'o?o' for i in range(5) for tau in range(1) if (i, -tau) != (j, 0)} for j in range(5)}\n",
    "link_assumptions[0] = {(i, -tau):'o?o' if i == 1 else '-?>' for i in [3,4] for tau in range(1) if (i, -tau) != (0, 0)}\n",
    "link_assumptions[1] = {(i, -tau):'o?o' if i == 0 else '-?>' for i in [2,3] for tau in range(1) if (i, -tau) != (1, 0)}\n",
    "link_assumptions[2] = {(i, -tau):'<?-' if i in [1] else '-?>' for i in [1,2,3,4] for tau in range(1) if (i, -tau) != (2, 0)}\n",
    "link_assumptions[3] = {(i, -tau):'<?-' if i in [0,1,2] else '-?>' for i in range(5) for tau in range(1) if (i, -tau) != (3, 0)}\n",
    "link_assumptions[4] = {(i, -tau):'<?-' if i in [0,1,2,3] else '-?>' for i in [0,2,3,4] for tau in range(1) if (i, -tau) != (4, 0)}\n",
    "\n",
    "\n",
    "link_assumptions[1][(0, 0)] = 'o?o' \n",
    "link_assumptions[0][(0, -1)] = 'o?o'\n",
    "link_assumptions[1][(1, -1)] = 'o?o'\n",
    "link_assumptions[0][(1, -1)] = 'o?o'\n",
    "link_assumptions[2][(2, -1)] = 'o?o'\n",
    "link_assumptions[3][(3, -1)] = 'o?o'\n",
    "link_assumptions[4][(4, -1)] = 'o?o'\n",
    "\n",
    "dataStacked = np.load('/data/stacked-01-21-std.npy', allow_pickle = True)\n",
    "\n",
    "dims = dataStacked.shape\n",
    "\n",
    "dS = np.array([dataStacked[i,:,:] for i in range(5)])\n",
    "d = {i: dS[:,i,:].transpose() for i in range(dims[1])}\n",
    "dataframe = pp.DataFrame(d, analysis_mode = 'multiple', var_names = ['tmin','tmax','sw','cloudiness','aod'])\n",
    "results3 = run_pcmci(dataframe, ParCorr(),link_assumptions)\n",
    "\n",
    "tp.plot_graph(graph=results3['graph'], val_matrix=results3['val_matrix'], save_name = 'figureA5-graphB.png',\n",
    "               var_names=[r'T$_{\\text{min}}$',r'T$_{\\text{max}}$','SW','Clouds','AOD'], node_pos = {'x':[0,1,3,4,2],'y':[2,0,0,2,4]},show_colorbar = False, \n",
    "               node_aspect = 0.8, node_size = 0.8, label_fontsize = 12, link_label_fontsize = 12, tick_label_size = 10)"
   ]
  },
  {
   "cell_type": "code",
   "execution_count": 24,
   "id": "95952c61-1ff6-4d42-ac51-7ec1d911e6c1",
   "metadata": {},
   "outputs": [],
   "source": [
    "## Figure 2a and supplement figure A5c - link assumptions with time order\n",
    "\n",
    "link_assumptions = {j:{(i, -tau):'o?o' for i in range(5) for tau in range(1) if (i, -tau) != (j, 0)} for j in range(5)}\n",
    "link_assumptions[0] = {(i, -tau):'o?o' if i == 1 else '-?>' for i in [3,4] for tau in range(1) if (i, -tau) != (0, 0)}\n",
    "link_assumptions[1] = {(i, -tau):'o?o' if i == 0 else '-?>' for i in [2,3] for tau in range(1) if (i, -tau) != (1, 0)}\n",
    "link_assumptions[2] = {(i, -tau):'<?-' if i in [1] else '-?>' for i in [1,2,3,4] for tau in range(1) if (i, -tau) != (2, 0)}\n",
    "link_assumptions[3] = {(i, -tau):'<?-' if i in [0,1,2] else '-?>' for i in range(5) for tau in range(1) if (i, -tau) != (3, 0)}\n",
    "link_assumptions[4] = {(i, -tau):'<?-' if i in [0,1,2,3] else '-?>' for i in [0,2,3,4] for tau in range(1) if (i, -tau) != (4, 0)}\n",
    "\n",
    "\n",
    "link_assumptions[1][(0, 0)] = '-?>' \n",
    "link_assumptions[0][(0, -1)] = 'o?o'\n",
    "link_assumptions[1][(1, -1)] = 'o?o'\n",
    "link_assumptions[0][(1, -1)] = '<?-'\n",
    "link_assumptions[2][(2, -1)] = 'o?o'\n",
    "link_assumptions[3][(3, -1)] = 'o?o'\n",
    "link_assumptions[4][(4, -1)] = 'o?o'\n",
    "\n",
    "dataStacked = np.load('/data/stacked-01-21-std.npy', allow_pickle = True)\n",
    "\n",
    "dims = dataStacked.shape\n",
    "\n",
    "dS = np.array([dataStacked[i,:,:] for i in range(5)])\n",
    "d = {i: dS[:,i,:].transpose() for i in range(dims[1])}\n",
    "dataframe = pp.DataFrame(d, analysis_mode = 'multiple', var_names = ['tmin','tmax','sw','cloudiness','aod'])\n",
    "results1 = run_pcmci(dataframe, ParCorr(),link_assumptions)\n",
    "\n",
    "tp.plot_graph(graph=results1['graph'], val_matrix=results1['val_matrix'], save_name = 'figureA5-graphC.png',\n",
    "               var_names=[r'T$_{\\text{min}}$',r'T$_{\\text{max}}$','SW','Clouds','AOD'], node_pos = {'x':[0,1,3,4,2],'y':[2,0,0,2,4]},\n",
    "               node_aspect = 0.8, node_size = 0.8, label_fontsize = 12, link_label_fontsize = 12, tick_label_size = 10)"
   ]
  }
 ],
 "metadata": {
  "kernelspec": {
   "display_name": "ci-march",
   "language": "python",
   "name": "python3"
  },
  "language_info": {
   "codemirror_mode": {
    "name": "ipython",
    "version": 3
   },
   "file_extension": ".py",
   "mimetype": "text/x-python",
   "name": "python",
   "nbconvert_exporter": "python",
   "pygments_lexer": "ipython3",
   "version": "3.10.13"
  }
 },
 "nbformat": 4,
 "nbformat_minor": 5
}
